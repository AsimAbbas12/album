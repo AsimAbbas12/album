{
  "cells": [
    {
      "cell_type": "markdown",
      "metadata": {
        "id": "view-in-github",
        "colab_type": "text"
      },
      "source": [
        "<a href=\"https://colab.research.google.com/github/AsimAbbas12/album/blob/master/Train%20a%20CNN%20on%20the%20SVHN%20Dataset%20for%20Classification.ipynb\" target=\"_parent\"><img src=\"https://colab.research.google.com/assets/colab-badge.svg\" alt=\"Open In Colab\"/></a>"
      ]
    },
    {
      "cell_type": "code",
      "execution_count": null,
      "metadata": {
        "id": "1YxKoCH2JFTO"
      },
      "outputs": [],
      "source": [
        "import os\n",
        "import numpy as np\n",
        "import matplotlib.pyplot as plt\n",
        "import tensorflow as tf\n",
        "from tensorflow.keras.models import Sequential\n",
        "from tensorflow.keras.layers import Conv2D, MaxPooling2D, Flatten, Dense, Dropout\n",
        "from sklearn.metrics import confusion_matrix, ConfusionMatrixDisplay\n",
        "from tensorflow.keras.utils import to_categorical\n",
        "from sklearn.model_selection import train_test_split\n",
        "from scipy.io import loadmat\n",
        "import requests\n",
        "\n",
        "\n"
      ]
    },
    {
      "cell_type": "code",
      "execution_count": null,
      "metadata": {
        "id": "up12DtHzJZRx"
      },
      "outputs": [],
      "source": [
        "def download_svhn(filename, url):\n",
        "    if not os.path.exists(filename):\n",
        "        print(f\"Downloading {filename}...\")\n",
        "        response = requests.get(url)\n",
        "        with open(filename, 'wb') as f:\n",
        "            f.write(response.content)\n",
        "        print(f\"{filename} downloaded.\")\n",
        "# Helper function to download the dataset if not already present\n"
      ]
    },
    {
      "cell_type": "code",
      "execution_count": null,
      "metadata": {
        "colab": {
          "base_uri": "https://localhost:8080/"
        },
        "id": "hHqb49jNJgPS",
        "outputId": "e3302d89-1a17-4760-f18c-dc1b24c16d70"
      },
      "outputs": [
        {
          "name": "stdout",
          "output_type": "stream",
          "text": [
            "Downloading train_32x32.mat...\n",
            "train_32x32.mat downloaded.\n",
            "Downloading test_32x32.mat...\n",
            "test_32x32.mat downloaded.\n"
          ]
        }
      ],
      "source": [
        "train_url = \"http://ufldl.stanford.edu/housenumbers/train_32x32.mat\"\n",
        "test_url = \"http://ufldl.stanford.edu/housenumbers/test_32x32.mat\"\n",
        "\n",
        "train_file = \"train_32x32.mat\"\n",
        "test_file = \"test_32x32.mat\"\n",
        "\n",
        "download_svhn(train_file, train_url)\n",
        "download_svhn(test_file, test_url)\n",
        "\n",
        "# Download the SVHN dataset if not available"
      ]
    },
    {
      "cell_type": "code",
      "execution_count": null,
      "metadata": {
        "id": "ueQGigZTJrOb"
      },
      "outputs": [],
      "source": [
        "svhn_train = loadmat(train_file)\n",
        "svhn_test = loadmat(test_file)\n",
        "# 1. Load the SVHN dataset\n"
      ]
    },
    {
      "cell_type": "code",
      "execution_count": null,
      "metadata": {
        "id": "K1h6prhEJ0_E"
      },
      "outputs": [],
      "source": [
        "# Extract images and labels\n",
        "X_train = svhn_train['X']\n",
        "y_train = svhn_train['y']\n",
        "X_test = svhn_test['X']\n",
        "y_test = svhn_test['y']\n",
        "\n"
      ]
    },
    {
      "cell_type": "code",
      "execution_count": null,
      "metadata": {
        "colab": {
          "base_uri": "https://localhost:8080/"
        },
        "id": "Tb0Vc-OYJ8wu",
        "outputId": "7c5dd513-f991-488a-843f-015a33c24d4a"
      },
      "outputs": [
        {
          "name": "stdout",
          "output_type": "stream",
          "text": [
            "Train images shape: (32, 32, 3, 73257)\n",
            "Train labels shape: (73257, 1)\n",
            "Test images shape: (32, 32, 3, 26032)\n",
            "Test labels shape: (26032, 1)\n"
          ]
        }
      ],
      "source": [
        "print(\"Train images shape:\", X_train.shape)  # (32, 32, 3, num_samples)\n",
        "print(\"Train labels shape:\", y_train.shape)\n",
        "print(\"Test images shape:\", X_test.shape)\n",
        "print(\"Test labels shape:\", y_test.shape)\n",
        "\n",
        "# 2. Check the data shape"
      ]
    },
    {
      "cell_type": "code",
      "execution_count": null,
      "metadata": {
        "colab": {
          "base_uri": "https://localhost:8080/"
        },
        "id": "wRy098LnKOKb",
        "outputId": "476acfab-5984-483d-b92e-4951589db6fe"
      },
      "outputs": [
        {
          "name": "stdout",
          "output_type": "stream",
          "text": [
            "Reshaped train images: (73257, 32, 32, 3)\n"
          ]
        }
      ],
      "source": [
        "# Reshape the data to match TensorFlow's expected input\n",
        "X_train = np.moveaxis(X_train, -1, 0)\n",
        "X_test = np.moveaxis(X_test, -1, 0)\n",
        "print(\"Reshaped train images:\", X_train.shape)  # Now (num_samples, 32, 32, 3)\n",
        "\n"
      ]
    },
    {
      "cell_type": "code",
      "execution_count": null,
      "metadata": {
        "id": "Nz54v1Q_KRWq"
      },
      "outputs": [],
      "source": [
        "# 3. Normalize the data\n",
        "X_train = X_train.astype('float32') / 255.0\n",
        "X_test = X_test.astype('float32') / 255.0\n",
        "\n"
      ]
    },
    {
      "cell_type": "code",
      "execution_count": null,
      "metadata": {
        "id": "B2wpUKVWKVnR"
      },
      "outputs": [],
      "source": [
        "# Correct labels: In the dataset, the label '10' represents '0', fix it\n",
        "y_train[y_train == 10] = 0\n",
        "y_test[y_test == 10] = 0\n",
        "\n"
      ]
    },
    {
      "cell_type": "code",
      "execution_count": null,
      "metadata": {
        "id": "4M1NHf22KZqp"
      },
      "outputs": [],
      "source": [
        "# One-hot encode the labels\n",
        "y_train = to_categorical(y_train, 10)\n",
        "y_test = to_categorical(y_test, 10)\n",
        "\n"
      ]
    },
    {
      "cell_type": "code",
      "execution_count": null,
      "metadata": {
        "id": "u1aTddSlKcp6"
      },
      "outputs": [],
      "source": [
        "# 4. Split the train set into training and validation sets\n",
        "X_train, X_val, y_train, y_val = train_test_split(X_train, y_train, test_size=0.2, random_state=42)\n",
        "\n"
      ]
    },
    {
      "cell_type": "code",
      "execution_count": null,
      "metadata": {
        "colab": {
          "base_uri": "https://localhost:8080/"
        },
        "id": "04DNI9d8KgWR",
        "outputId": "64d8fd58-c853-481a-cff9-6557867bf690"
      },
      "outputs": [
        {
          "name": "stderr",
          "output_type": "stream",
          "text": [
            "/usr/local/lib/python3.10/dist-packages/keras/src/layers/convolutional/base_conv.py:107: UserWarning: Do not pass an `input_shape`/`input_dim` argument to a layer. When using Sequential models, prefer using an `Input(shape)` object as the first layer in the model instead.\n",
            "  super().__init__(activity_regularizer=activity_regularizer, **kwargs)\n"
          ]
        }
      ],
      "source": [
        "model = Sequential([\n",
        "    Conv2D(32, (3, 3), activation='relu', input_shape=(32, 32, 3)),\n",
        "    MaxPooling2D(pool_size=(2, 2)),\n",
        "    Conv2D(64, (3, 3), activation='relu'),\n",
        "    MaxPooling2D(pool_size=(2, 2)),\n",
        "    Conv2D(128, (3, 3), activation='relu'),\n",
        "    MaxPooling2D(pool_size=(2, 2)),\n",
        "    Flatten(),\n",
        "    Dense(128, activation='relu'),\n",
        "    Dropout(0.5),\n",
        "    Dense(10, activation='softmax')\n",
        "])\n",
        "\n",
        "# 5. Define the CNN model\n"
      ]
    },
    {
      "cell_type": "code",
      "execution_count": null,
      "metadata": {
        "id": "_wCPHDwJKofu"
      },
      "outputs": [],
      "source": [
        "\n",
        "model.compile(optimizer='adam', loss='categorical_crossentropy', metrics=['accuracy'])\n",
        "\n",
        "# Compile the model"
      ]
    },
    {
      "cell_type": "code",
      "execution_count": null,
      "metadata": {
        "colab": {
          "background_save": true,
          "base_uri": "https://localhost:8080/"
        },
        "id": "wTkU5ptBKwhm",
        "outputId": "9c0e6a60-01eb-491b-9dfe-9f2a28ea33fe"
      },
      "outputs": [
        {
          "name": "stdout",
          "output_type": "stream",
          "text": [
            "Epoch 1/10\n",
            "\u001b[1m916/916\u001b[0m \u001b[32m━━━━━━━━━━━━━━━━━━━━\u001b[0m\u001b[37m\u001b[0m \u001b[1m134s\u001b[0m 144ms/step - accuracy: 0.3747 - loss: 1.7973 - val_accuracy: 0.8042 - val_loss: 0.6475\n",
            "Epoch 2/10\n",
            "\u001b[1m916/916\u001b[0m \u001b[32m━━━━━━━━━━━━━━━━━━━━\u001b[0m\u001b[37m\u001b[0m \u001b[1m140s\u001b[0m 141ms/step - accuracy: 0.8001 - loss: 0.6782 - val_accuracy: 0.8630 - val_loss: 0.4625\n",
            "Epoch 3/10\n",
            "\u001b[1m916/916\u001b[0m \u001b[32m━━━━━━━━━━━━━━━━━━━━\u001b[0m\u001b[37m\u001b[0m \u001b[1m119s\u001b[0m 116ms/step - accuracy: 0.8420 - loss: 0.5316 - val_accuracy: 0.8774 - val_loss: 0.4094\n",
            "Epoch 4/10\n",
            "\u001b[1m916/916\u001b[0m \u001b[32m━━━━━━━━━━━━━━━━━━━━\u001b[0m\u001b[37m\u001b[0m \u001b[1m126s\u001b[0m 99ms/step - accuracy: 0.8609 - loss: 0.4703 - val_accuracy: 0.8777 - val_loss: 0.4074\n",
            "Epoch 5/10\n",
            "\u001b[1m916/916\u001b[0m \u001b[32m━━━━━━━━━━━━━━━━━━━━\u001b[0m\u001b[37m\u001b[0m \u001b[1m142s\u001b[0m 99ms/step - accuracy: 0.8743 - loss: 0.4312 - val_accuracy: 0.8914 - val_loss: 0.3671\n",
            "Epoch 6/10\n",
            "\u001b[1m916/916\u001b[0m \u001b[32m━━━━━━━━━━━━━━━━━━━━\u001b[0m\u001b[37m\u001b[0m \u001b[1m144s\u001b[0m 101ms/step - accuracy: 0.8814 - loss: 0.4020 - val_accuracy: 0.8957 - val_loss: 0.3555\n",
            "Epoch 7/10\n",
            "\u001b[1m916/916\u001b[0m \u001b[32m━━━━━━━━━━━━━━━━━━━━\u001b[0m\u001b[37m\u001b[0m \u001b[1m143s\u001b[0m 102ms/step - accuracy: 0.8904 - loss: 0.3715 - val_accuracy: 0.8931 - val_loss: 0.3638\n",
            "Epoch 8/10\n",
            "\u001b[1m916/916\u001b[0m \u001b[32m━━━━━━━━━━━━━━━━━━━━\u001b[0m\u001b[37m\u001b[0m \u001b[1m145s\u001b[0m 105ms/step - accuracy: 0.8948 - loss: 0.3562 - val_accuracy: 0.9002 - val_loss: 0.3430\n",
            "Epoch 9/10\n",
            "\u001b[1m916/916\u001b[0m \u001b[32m━━━━━━━━━━━━━━━━━━━━\u001b[0m\u001b[37m\u001b[0m \u001b[1m136s\u001b[0m 99ms/step - accuracy: 0.9022 - loss: 0.3369 - val_accuracy: 0.9019 - val_loss: 0.3338\n",
            "Epoch 10/10\n",
            "\u001b[1m916/916\u001b[0m \u001b[32m━━━━━━━━━━━━━━━━━━━━\u001b[0m\u001b[37m\u001b[0m \u001b[1m140s\u001b[0m 97ms/step - accuracy: 0.9053 - loss: 0.3248 - val_accuracy: 0.8997 - val_loss: 0.3384\n"
          ]
        }
      ],
      "source": [
        "\n",
        "history = model.fit(X_train, y_train, validation_data=(X_val, y_val), epochs=10, batch_size=64)\n",
        "\n",
        "# 6. Train the model"
      ]
    },
    {
      "cell_type": "code",
      "execution_count": null,
      "metadata": {
        "id": "pReUpj_EK1Gr"
      },
      "outputs": [],
      "source": [
        "test_loss, test_acc = model.evaluate(X_test, y_test)\n",
        "print(f\"Test accuracy: {test_acc:.4f}\")\n",
        "\n",
        "# 7. Evaluate the model"
      ]
    },
    {
      "cell_type": "code",
      "execution_count": null,
      "metadata": {
        "id": "nDfY1LgfK5xF"
      },
      "outputs": [],
      "source": [
        "y_pred = model.predict(X_test)\n",
        "y_pred_classes = np.argmax(y_pred, axis=1)\n",
        "y_true = np.argmax(y_test, axis=1)\n",
        "\n",
        "# 8. Generate predictions"
      ]
    },
    {
      "cell_type": "code",
      "execution_count": null,
      "metadata": {
        "id": "HJbNKWVzK8gH"
      },
      "outputs": [],
      "source": [
        "cm = confusion_matrix(y_true, y_pred_classes)\n",
        "disp = ConfusionMatrixDisplay(confusion_matrix=cm)\n",
        "disp.plot(cmap='Blues')\n",
        "plt.show()\n",
        "\n",
        "# 9. Confusion Matrix"
      ]
    },
    {
      "cell_type": "code",
      "execution_count": 1,
      "metadata": {
        "id": "GjTAq4NcK_5M",
        "colab": {
          "base_uri": "https://localhost:8080/",
          "height": 211
        },
        "outputId": "7533f3be-4b9a-4d20-931a-80b51cda0da3"
      },
      "outputs": [
        {
          "output_type": "error",
          "ename": "NameError",
          "evalue": "name 'plt' is not defined",
          "traceback": [
            "\u001b[0;31m---------------------------------------------------------------------------\u001b[0m",
            "\u001b[0;31mNameError\u001b[0m                                 Traceback (most recent call last)",
            "\u001b[0;32m<ipython-input-1-4e6d38dd6e6b>\u001b[0m in \u001b[0;36m<cell line: 6>\u001b[0;34m()\u001b[0m\n\u001b[1;32m      4\u001b[0m \u001b[0;34m\u001b[0m\u001b[0m\n\u001b[1;32m      5\u001b[0m \u001b[0;31m# Plot the selected test samples\u001b[0m\u001b[0;34m\u001b[0m\u001b[0;34m\u001b[0m\u001b[0m\n\u001b[0;32m----> 6\u001b[0;31m \u001b[0mplt\u001b[0m\u001b[0;34m.\u001b[0m\u001b[0mfigure\u001b[0m\u001b[0;34m(\u001b[0m\u001b[0mfigsize\u001b[0m\u001b[0;34m=\u001b[0m\u001b[0;34m(\u001b[0m\u001b[0;36m15\u001b[0m\u001b[0;34m,\u001b[0m \u001b[0;36m5\u001b[0m\u001b[0;34m)\u001b[0m\u001b[0;34m)\u001b[0m\u001b[0;34m\u001b[0m\u001b[0;34m\u001b[0m\u001b[0m\n\u001b[0m\u001b[1;32m      7\u001b[0m \u001b[0;32mfor\u001b[0m \u001b[0mi\u001b[0m\u001b[0;34m,\u001b[0m \u001b[0midx\u001b[0m \u001b[0;32min\u001b[0m \u001b[0menumerate\u001b[0m\u001b[0;34m(\u001b[0m\u001b[0mindices\u001b[0m\u001b[0;34m)\u001b[0m\u001b[0;34m:\u001b[0m\u001b[0;34m\u001b[0m\u001b[0;34m\u001b[0m\u001b[0m\n\u001b[1;32m      8\u001b[0m     \u001b[0mplt\u001b[0m\u001b[0;34m.\u001b[0m\u001b[0msubplot\u001b[0m\u001b[0;34m(\u001b[0m\u001b[0;36m1\u001b[0m\u001b[0;34m,\u001b[0m \u001b[0mlen\u001b[0m\u001b[0;34m(\u001b[0m\u001b[0mindices\u001b[0m\u001b[0;34m)\u001b[0m\u001b[0;34m,\u001b[0m \u001b[0mi\u001b[0m \u001b[0;34m+\u001b[0m \u001b[0;36m1\u001b[0m\u001b[0;34m)\u001b[0m\u001b[0;34m\u001b[0m\u001b[0;34m\u001b[0m\u001b[0m\n",
            "\u001b[0;31mNameError\u001b[0m: name 'plt' is not defined"
          ]
        }
      ],
      "source": [
        "# 10. Visualize test samples with predicted and true labels\n",
        "# Choose indices for samples to display\n",
        "indices = [0, 1, 2, 3, 4]  # You can choose any indices of interest\n",
        "\n",
        "# Plot the selected test samples\n",
        "plt.figure(figsize=(15, 5))\n",
        "for i, idx in enumerate(indices):\n",
        "    plt.subplot(1, len(indices), i + 1)\n",
        "    plt.imshow(X_test[idx])\n",
        "    plt.title(f\"True: {y_true[idx]}\\nPred: {y_pred_classes[idx]}\")\n",
        "    plt.axis('off')\n",
        "\n",
        "plt.show()"
      ]
    }
  ],
  "metadata": {
    "colab": {
      "provenance": [],
      "authorship_tag": "ABX9TyP8iGTCpnqFOSBzQUfNaK5e",
      "include_colab_link": true
    },
    "kernelspec": {
      "display_name": "Python 3",
      "name": "python3"
    },
    "language_info": {
      "name": "python"
    }
  },
  "nbformat": 4,
  "nbformat_minor": 0
}